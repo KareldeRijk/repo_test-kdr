{
 "cells": [
  {
   "cell_type": "code",
   "execution_count": null,
   "id": "ac23cce0",
   "metadata": {},
   "outputs": [],
   "source": [
    "# This is some text to fill up the file for the purpose of the assignment. This file is not meant to do anything. "
   ]
  }
 ],
 "metadata": {
  "language_info": {
   "name": "python"
  }
 },
 "nbformat": 4,
 "nbformat_minor": 5
}
